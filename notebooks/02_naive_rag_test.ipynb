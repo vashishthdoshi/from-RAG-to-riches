{
 "cells": [
  {
   "cell_type": "code",
   "execution_count": 1,
   "id": "c55fe2b9-139f-4940-83bd-ecf6c8a45844",
   "metadata": {},
   "outputs": [
    {
     "name": "stderr",
     "output_type": "stream",
     "text": [
      "2025-10-02 00:12:56,924 - naive_rag - INFO - Initializing RAG with embedding model: all-MiniLM-L6-v2\n",
      "2025-10-02 00:12:56,934 - sentence_transformers.SentenceTransformer - INFO - Use pytorch device_name: cpu\n",
      "2025-10-02 00:12:56,934 - sentence_transformers.SentenceTransformer - INFO - Load pretrained SentenceTransformer: all-MiniLM-L6-v2\n"
     ]
    },
    {
     "name": "stdout",
     "output_type": "stream",
     "text": [
      "Utils module loaded successfully!\n",
      "Testing Naive RAG Implementation\n",
      "==================================================\n"
     ]
    },
    {
     "name": "stderr",
     "output_type": "stream",
     "text": [
      "2025-10-02 00:12:58,524 - naive_rag - INFO - RAG system initialized successfully\n"
     ]
    },
    {
     "name": "stdout",
     "output_type": "stream",
     "text": [
      "RAG system initialized\n",
      "Cache redirected to Z: drive\n"
     ]
    }
   ],
   "source": [
    "\"\"\"\n",
    "Test Naive RAG Implementation\n",
    "This notebook tests the complete RAG pipeline step by step\n",
    "\"\"\"\n",
    "\n",
    "import sys\n",
    "sys.path.insert(0, '../src')\n",
    "\n",
    "from naive_rag import NaiveRAG\n",
    "import time\n",
    "\n",
    "print(\"Testing Naive RAG Implementation\\n\" + \"=\"*50)\n",
    "\n",
    "# Initialize\n",
    "rag = NaiveRAG()\n",
    "print(\"RAG system initialized\")\n",
    "\n",
    "\n",
    "import os\n",
    "os.environ['HF_HOME'] = 'Z:/hf_cache'\n",
    "os.environ['TRANSFORMERS_CACHE'] = 'Z:/hf_cache'\n",
    "os.environ['HF_DATASETS_CACHE'] = 'Z:/hf_cache'\n",
    "print(\"Cache redirected to Z: drive\")"
   ]
  },
  {
   "cell_type": "code",
   "execution_count": 2,
   "id": "ed7ec859-5604-4e5a-b445-01d69a4ab3c3",
   "metadata": {},
   "outputs": [
    {
     "name": "stderr",
     "output_type": "stream",
     "text": [
      "2025-10-02 00:12:58,547 - naive_rag - INFO - Loading RAG Mini Wikipedia dataset...\n",
      "2025-10-02 00:12:58,548 - naive_rag - INFO - Loading text corpus...\n"
     ]
    },
    {
     "name": "stdout",
     "output_type": "stream",
     "text": [
      "\n",
      "1. Loading dataset...\n"
     ]
    },
    {
     "name": "stderr",
     "output_type": "stream",
     "text": [
      "2025-10-02 00:13:02,061 - naive_rag - INFO - Loading Q&A pairs...\n",
      "2025-10-02 00:13:03,800 - naive_rag - INFO - Loaded 3200 documents and 918 Q&A pairs\n"
     ]
    },
    {
     "name": "stdout",
     "output_type": "stream",
     "text": [
      "Dataset loaded in 5.25 seconds\n",
      "   Documents: 3200\n",
      "   Q&A pairs: 918\n"
     ]
    }
   ],
   "source": [
    "# Load dataset\n",
    "print(\"\\n1. Loading dataset...\")\n",
    "start_time = time.time()\n",
    "\n",
    "documents, qa_pairs = rag.load_dataset()\n",
    "\n",
    "print(f\"Dataset loaded in {time.time() - start_time:.2f} seconds\")\n",
    "print(f\"   Documents: {len(documents)}\")\n",
    "print(f\"   Q&A pairs: {len(qa_pairs)}\")"
   ]
  },
  {
   "cell_type": "code",
   "execution_count": 3,
   "id": "58b90705-0704-4307-b127-34975fa33aec",
   "metadata": {},
   "outputs": [
    {
     "name": "stderr",
     "output_type": "stream",
     "text": [
      "2025-10-02 00:13:03,814 - naive_rag - INFO - Creating embeddings for 3200 documents...\n"
     ]
    },
    {
     "name": "stdout",
     "output_type": "stream",
     "text": [
      "\n",
      "2. Creating embeddings...\n"
     ]
    },
    {
     "data": {
      "application/vnd.jupyter.widget-view+json": {
       "model_id": "40a5b36f11344c778330f04045788c49",
       "version_major": 2,
       "version_minor": 0
      },
      "text/plain": [
       "Batches:   0%|          | 0/100 [00:00<?, ?it/s]"
      ]
     },
     "metadata": {},
     "output_type": "display_data"
    },
    {
     "name": "stderr",
     "output_type": "stream",
     "text": [
      "2025-10-02 00:14:58,037 - naive_rag - INFO - Created embeddings with shape: (3200, 384)\n"
     ]
    },
    {
     "name": "stdout",
     "output_type": "stream",
     "text": [
      "Embeddings created in 114.22 seconds\n",
      "   Shape: (3200, 384)\n",
      "   Memory: ~4.7 MB\n"
     ]
    }
   ],
   "source": [
    "# Create embeddings\n",
    "print(\"\\n2. Creating embeddings...\")\n",
    "start_time = time.time()\n",
    "\n",
    "embeddings = rag.create_embeddings(batch_size=32)\n",
    "\n",
    "print(f\"Embeddings created in {time.time() - start_time:.2f} seconds\")\n",
    "print(f\"   Shape: {embeddings.shape}\")\n",
    "print(f\"   Memory: ~{embeddings.nbytes / 1024 / 1024:.1f} MB\")"
   ]
  },
  {
   "cell_type": "code",
   "execution_count": 4,
   "id": "c07bb6c7-2c81-495a-8ab3-12eb7e905740",
   "metadata": {},
   "outputs": [
    {
     "name": "stderr",
     "output_type": "stream",
     "text": [
      "2025-10-02 00:14:58,048 - naive_rag - INFO - Building FAISS vector database...\n",
      "2025-10-02 00:14:58,054 - naive_rag - INFO - FAISS index built with 3200 vectors\n"
     ]
    },
    {
     "name": "stdout",
     "output_type": "stream",
     "text": [
      "\n",
      "3. Building vector database...\n",
      "Vector DB built in 0.01 seconds\n",
      "   Total vectors: 3200\n"
     ]
    }
   ],
   "source": [
    "# Build FAISS index\n",
    "print(\"\\n3. Building vector database...\")\n",
    "start_time = time.time()\n",
    "\n",
    "vector_db = rag.build_vector_db()\n",
    "\n",
    "print(f\"Vector DB built in {time.time() - start_time:.2f} seconds\")\n",
    "print(f\"   Total vectors: {vector_db.ntotal}\")"
   ]
  },
  {
   "cell_type": "code",
   "execution_count": 20,
   "id": "8df4dbe7-84ed-444a-bb27-db78fc9b1e4d",
   "metadata": {},
   "outputs": [
    {
     "name": "stdout",
     "output_type": "stream",
     "text": [
      "\n",
      "4. Testing retrieval...\n",
      "Question: Was Abraham Lincoln the sixteenth President of the United States?\n"
     ]
    },
    {
     "data": {
      "application/vnd.jupyter.widget-view+json": {
       "model_id": "4f842960136941ff84904ec343be620c",
       "version_major": 2,
       "version_minor": 0
      },
      "text/plain": [
       "Batches:   0%|          | 0/1 [00:00<?, ?it/s]"
      ]
     },
     "metadata": {},
     "output_type": "display_data"
    },
    {
     "name": "stdout",
     "output_type": "stream",
     "text": [
      "\n",
      "Retrieved 3 documents:\n",
      "\n",
      "--- Result 1 (score: 0.7095) ---\n",
      "Young Abraham Lincoln...\n",
      "\n",
      "--- Result 2 (score: 0.5840) ---\n",
      "Abraham Lincoln (February 12, 1809 â April 15, 1865) was the sixteenth President of the United States, serving from March 4, 1861 until his assassination. As an outspoken opponent of the expansion of slavery in the United States, \"[I]n his short autobiography written for the 1860 presidential camp...\n",
      "\n",
      "--- Result 3 (score: 0.5569) ---\n",
      "Sixteen months before his death, his son, John Quincy Adams, became the sixth President of the United States (1825 1829), the only son of a former President to hold the office until George W. Bush in 2001....\n"
     ]
    }
   ],
   "source": [
    "#Testing retrieval\n",
    "print(\"\\n4. Testing retrieval...\")\n",
    "\n",
    "test_question = \"Was Abraham Lincoln the sixteenth President of the United States?\"\n",
    "print(f\"Question: {test_question}\")\n",
    "\n",
    "results = rag.retrieve(test_question, top_k=3)\n",
    "\n",
    "print(f\"\\nRetrieved {len(results)} documents:\")\n",
    "for i, (doc, score) in enumerate(results, 1):\n",
    "    print(f\"\\n--- Result {i} (score: {score:.4f}) ---\")\n",
    "    print(doc[:300] + \"...\")"
   ]
  },
  {
   "cell_type": "code",
   "execution_count": 6,
   "id": "a2af6616-8248-4740-a58d-d78d92b6b013",
   "metadata": {},
   "outputs": [
    {
     "name": "stderr",
     "output_type": "stream",
     "text": [
      "2025-10-02 00:14:58,131 - naive_rag - INFO - Loading generation model: google/flan-t5-base\n"
     ]
    },
    {
     "name": "stdout",
     "output_type": "stream",
     "text": [
      "\n",
      "5. Loading generation model...\n"
     ]
    },
    {
     "name": "stderr",
     "output_type": "stream",
     "text": [
      "2025-10-02 00:14:58,911 - naive_rag - INFO - Generation model loaded successfully\n"
     ]
    },
    {
     "name": "stdout",
     "output_type": "stream",
     "text": [
      "Generator loaded in 0.78 seconds\n"
     ]
    }
   ],
   "source": [
    "# Load generation model\n",
    "print(\"\\n5. Loading generation model...\")\n",
    "start_time = time.time()\n",
    "\n",
    "rag.load_generator(\"google/flan-t5-base\")\n",
    "\n",
    "print(f\"Generator loaded in {time.time() - start_time:.2f} seconds\")"
   ]
  },
  {
   "cell_type": "code",
   "execution_count": 18,
   "id": "4b68bb1d-dede-41e9-b1d2-6654e724e4b3",
   "metadata": {},
   "outputs": [
    {
     "name": "stdout",
     "output_type": "stream",
     "text": [
      "\n",
      "6. Testing answer generation...\n",
      "Question: Was Abraham Lincoln the sixteenth President of the United States?\n",
      "Generated Answer: no\n",
      "Expected Answer: yes\n"
     ]
    }
   ],
   "source": [
    "# Test answer generation\n",
    "print(\"\\n6. Testing answer generation...\")\n",
    "\n",
    "test_question = \"Was Abraham Lincoln the sixteenth President of the United States?\"\n",
    "context = results[0][0]  # Use top retrieved document\n",
    "\n",
    "answer = rag.generate_answer(test_question, context, prompt_strategy=\"basic\")\n",
    "\n",
    "print(f\"Question: {test_question}\")\n",
    "print(f\"Generated Answer: {answer}\")\n",
    "print(f\"Expected Answer: yes\")"
   ]
  },
  {
   "cell_type": "code",
   "execution_count": 24,
   "id": "9af6e4ca-bfd1-4728-9c0a-bb71f986d023",
   "metadata": {},
   "outputs": [
    {
     "name": "stdout",
     "output_type": "stream",
     "text": [
      "\n",
      "7. Testing complete RAG pipeline...\n"
     ]
    },
    {
     "data": {
      "application/vnd.jupyter.widget-view+json": {
       "model_id": "038cbcdb95ef47948675791110da239d",
       "version_major": 2,
       "version_minor": 0
      },
      "text/plain": [
       "Batches:   0%|          | 0/1 [00:00<?, ?it/s]"
      ]
     },
     "metadata": {},
     "output_type": "display_data"
    },
    {
     "name": "stdout",
     "output_type": "stream",
     "text": [
      "\n",
      "Q: Was Abraham Lincoln the sixteenth President of the United States?\n",
      "A: no\n",
      "Retrieval score: 0.7095\n"
     ]
    },
    {
     "data": {
      "application/vnd.jupyter.widget-view+json": {
       "model_id": "47b21fac76fc416f93e459bb8d1a567d",
       "version_major": 2,
       "version_minor": 0
      },
      "text/plain": [
       "Batches:   0%|          | 0/1 [00:00<?, ?it/s]"
      ]
     },
     "metadata": {},
     "output_type": "display_data"
    },
    {
     "name": "stdout",
     "output_type": "stream",
     "text": [
      "\n",
      "Q: When did Lincoln begin his political career?\n",
      "A: 1832\n",
      "Retrieval score: 0.6693\n"
     ]
    },
    {
     "data": {
      "application/vnd.jupyter.widget-view+json": {
       "model_id": "0fa3d491b5864239a2fabda4af39ccfe",
       "version_major": 2,
       "version_minor": 0
      },
      "text/plain": [
       "Batches:   0%|          | 0/1 [00:00<?, ?it/s]"
      ]
     },
     "metadata": {},
     "output_type": "display_data"
    },
    {
     "name": "stdout",
     "output_type": "stream",
     "text": [
      "\n",
      "Q: How long was Lincoln's formal education?\n",
      "A: 18 months\n",
      "Retrieval score: 0.6694\n"
     ]
    }
   ],
   "source": [
    "print(\"\\n7. Testing complete RAG pipeline...\")\n",
    "\n",
    "test_questions = [\n",
    "    \"Was Abraham Lincoln the sixteenth President of the United States?\",\n",
    "    \"When did Lincoln begin his political career?\",\n",
    "    \"How long was Lincoln's formal education?\"\n",
    "]\n",
    "\n",
    "for question in test_questions:\n",
    "    result = rag.query(question, top_k=1, prompt_strategy=\"basic\")\n",
    "    print(f\"\\nQ: {result['question']}\")\n",
    "    print(f\"A: {result['answer']}\")\n",
    "    print(f\"Retrieval score: {result['retrieval_score']:.4f}\")"
   ]
  },
  {
   "cell_type": "code",
   "execution_count": null,
   "id": "91370c2d-b129-4e8b-bd93-38069edb8c46",
   "metadata": {},
   "outputs": [],
   "source": []
  }
 ],
 "metadata": {
  "kernelspec": {
   "display_name": "Python [conda env:rag-assignment]",
   "language": "python",
   "name": "conda-env-rag-assignment-py"
  },
  "language_info": {
   "codemirror_mode": {
    "name": "ipython",
    "version": 3
   },
   "file_extension": ".py",
   "mimetype": "text/x-python",
   "name": "python",
   "nbconvert_exporter": "python",
   "pygments_lexer": "ipython3",
   "version": "3.9.23"
  }
 },
 "nbformat": 4,
 "nbformat_minor": 5
}
